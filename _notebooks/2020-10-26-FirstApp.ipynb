{
 "cells": [
  {
   "cell_type": "markdown",
   "metadata": {},
   "source": [
    "# 01 Developing a small Jupyter app POC\n",
    "\n",
    "- hide: true\n",
    "- toc: true\n",
    "- branch: master\n",
    "- badges: true\n",
    "- comments: false\n",
    "- author: finavatar\n",
    "- categories: [fastpages, jupyter]\n"
   ]
  },
  {
   "cell_type": "markdown",
   "metadata": {},
   "source": [
    "## Learning `fastai`'s course on [Practical Deep Learning for Coders](https://course.fast.ai/)\n"
   ]
  },
  {
   "cell_type": "markdown",
   "metadata": {},
   "source": [
    "###    Takeaway from learning the course\n",
    "\n",
    "> Do not use Windows environment set up at all. Use Linux if you want to reduce the number of system environment errors that will occur during the course.\n",
    "\n",
    "> Do not use CPUs but GPU ; otherwise, you may encounter memory issues and other issues related to not using GPU.\n",
    "\n",
    "> Do use forums to find out how to resolve errors as there will be obstacles encountered despite following exactly what the coursebook said.\n",
    "\n",
    "> If one solution shown by coursebook does not work, try a different solution suggested by forum, fastai website or google search results\n",
    "\n",
    "> Installing `voila` is easy, but there is a configuration setup (just one line) that needs to be defined on the terminal command line and that is not mentioned in the chapter 2 of coursebook. You will need to go to `voila` documentation webpage to find out which particular configuration setup is required for your own system environment."
   ]
  },
  {
   "cell_type": "markdown",
   "metadata": {},
   "source": [
    "## Coding An App\n",
    "\n",
    "> This notebook app is a small `Proof-of-Concept` to identify bear types (grizzly, black and teddy).\n",
    "> The pre-trained model with all its weights and architecture is in `export.pkl` (believe this needs to be in the same directory as the coding file which, in this case, is a ipynb named `bear-classifier.ipynb`."
   ]
  },
  {
   "cell_type": "code",
   "execution_count": null,
   "metadata": {},
   "outputs": [],
   "source": [
    "#collapse-show\n",
    "from fastai.vision.all import *\n",
    "from fastai.vision.widgets import *\n",
    "import fastai.losses\n",
    "import fastai.layers\n",
    "#below line is needed to avoid AttributeError from fastai library\n",
    "fastai.layers.CrossEntropyLossFlat = fastai.losses.CrossEntropyLossFlat\n",
    "path = Path()\n",
    "#path.ls(file_exts='.pkl')"
   ]
  },
  {
   "cell_type": "code",
   "execution_count": 7,
   "metadata": {},
   "outputs": [],
   "source": [
    "learn_inf = load_learner(path/'export.pkl',cpu=True)"
   ]
  },
  {
   "cell_type": "code",
   "execution_count": 8,
   "metadata": {},
   "outputs": [],
   "source": [
    "out_pl = widgets.Output()\n",
    "\n",
    "lbl_pred = widgets.Label()\n"
   ]
  },
  {
   "cell_type": "code",
   "execution_count": 9,
   "metadata": {},
   "outputs": [],
   "source": [
    "#collapse-show\n",
    "btn_run = widgets.Button(description='Classify')\n",
    "def on_click_classify(change):\n",
    "    img = PILImage.create(btn_upload.data[-1])\n",
    "    out_pl.clear_output()\n",
    "    with out_pl: display(img.to_thumb(128,128))\n",
    "    pred,pred_idx,probs = learn_inf.predict(img)\n",
    "    lbl_pred.value = f'Prediction: {pred}; Probability: {probs[pred_idx]:.04f}'\n",
    "\n",
    "btn_run.on_click(on_click_classify)"
   ]
  },
  {
   "cell_type": "code",
   "execution_count": 10,
   "metadata": {},
   "outputs": [
    {
     "data": {
      "application/vnd.jupyter.widget-view+json": {
       "model_id": "f70d7de4a2a54f419109523c63a3bad7",
       "version_major": 2,
       "version_minor": 0
      },
      "text/plain": [
       "VBox(children=(Label(value='Select your bear!'), FileUpload(value={}, description='Upload'), Button(descriptio…"
      ]
     },
     "metadata": {},
     "output_type": "display_data"
    }
   ],
   "source": [
    "#hide\n",
    "#Putting back btn_upload to a widget for next cell\n",
    "btn_upload = widgets.FileUpload()\n",
    "#hide_output\n",
    "VBox([widgets.Label('Select your bear!'), \n",
    "      btn_upload, btn_run, out_pl, lbl_pred])"
   ]
  },
  {
   "cell_type": "markdown",
   "metadata": {},
   "source": [
    "## Turning Jupyter Notebook into an App (Chapter 2)\n",
    "\n",
    "Must install the following on the terminal/command line:\n",
    " >- *pip install voila*\n",
    " >- *jupyter serverextension enable voila —sys-prefix*\n",
    " >- refer to [voila website](https://voila.readthedocs.io/en/stable/using.html) to find out which configuration setting is needed to define on the terminal command line (*`this step is not mentioned by the course`*)\n",
    " >>> Tried these (only one is needed) to see which worked\n",
    " >>> - `voila --enable_nbextensions=True`\n",
    " >>> - `jupyter notebook --VoilaConfiguration.enable_nbextensions=True`\n",
    "\n",
    "    \n",
    "If `Error 404`, may need to re-install the above again.\n",
    "\n",
    "If `Error 505 , need to logout the Notebook, shut down the GPU and re-login again."
   ]
  },
  {
   "cell_type": "markdown",
   "metadata": {},
   "source": [
    "## Deployment \n",
    "\n",
    "### Using Binder (<span class=\"burk\">many obstacles</span>)\n",
    "> Not so easy to use `Binder` (from mybinder.org), if you get hit on your first attempt with an error. \n",
    "> - Hit 'cannot resolve reference' error about GitHub repo. Forum didn't help as fixes are specific to their own projects. After many tries, realized that `Binder` was expecting my default GitHub branch to be 'master' and not 'main'. Manually entered the optional field (branch/tag/commit) on the form and re-launched.\n",
    "> - Hit PyTorch error - something about kernel not supported. Changed the requirements.txt to that of fastai's (downloaded from GitHub) for the bear identification exercise. Fixed.\n",
    "> - Hit 404 error on the browser page - one of the 'optional' pull-down fields on the binder form was selected wrongly : it should be URL instead of File when specifying `/voila/render/bear-classifier.ipynb`\n",
    "> - App is up and running except that it doesn't show label (that is the prediction probability) - need to investigate\n",
    "\n",
    "### Using Heroku (`successful on one attempt`)\n",
    "\n",
    "> After unsuccessful attempts to deploy on `Binder`, tried using `Heroku` instead and it worked!\n",
    "> Follow the instructions on Heroku deployment on [fastai website](https://course.fast.ai/deployment_heroku)\n",
    "\n",
    "Following is my app on bear identification (grizzly, black, teddy)\n",
    "> My [working app on heroku](https://bear-identification.herokuapp.com/)"
   ]
  },
  {
   "cell_type": "markdown",
   "metadata": {},
   "source": [
    "## My Bucket List\n",
    "\n",
    "1. Find out the difference between a matrix and a vector. \n",
    "> - For example, how to change a list of matrices (Rank-3 tensor) into a list of vectors(Rank-2 tensor) using PyTorch `View`.\n",
    "> - When to use matrix and when to use vector\n"
   ]
  },
  {
   "cell_type": "code",
   "execution_count": null,
   "metadata": {},
   "outputs": [],
   "source": []
  }
 ],
 "metadata": {
  "kernelspec": {
   "display_name": "Python 3",
   "language": "python",
   "name": "python3"
  },
  "language_info": {
   "codemirror_mode": {
    "name": "ipython",
    "version": 3
   },
   "file_extension": ".py",
   "mimetype": "text/x-python",
   "name": "python",
   "nbconvert_exporter": "python",
   "pygments_lexer": "ipython3",
   "version": "3.8.5"
  }
 },
 "nbformat": 4,
 "nbformat_minor": 4
}
